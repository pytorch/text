{
 "cells": [
  {
   "cell_type": "markdown",
   "id": "44cc6050",
   "metadata": {},
   "source": [
    "# CNNDM TEXT SUMMARIZATION WITH T5-BASE MODEL\n",
    "\n",
    "**Author**: Pendo Abbo\n",
    "\n",
    "### Overview\n",
    "\n",
    "This tutorial demonstrates how to use a pre-trained T5 Model for text summarization on the CNN-DailyMail dataset. We will demonstrate how to use the torchtext library to:\n",
    "\n",
    "1. build a text pre-processing pipeline for a T5 model\n",
    "2. read in the CNN-DM dataset and pre-process the text\n",
    "3. instantiate a pre-trained t5 model with base configuration, and perform text summarization on input text"
   ]
  },
  {
   "cell_type": "markdown",
   "id": "75675cbc",
   "metadata": {},
   "source": [
    "### Common Imports"
   ]
  },
  {
   "cell_type": "code",
   "execution_count": null,
   "id": "a58a9095",
   "metadata": {},
   "outputs": [],
   "source": [
    "import torch\n",
    "import torch.nn as nn\n",
    "import torch.nn.functional as F\n",
    "\n",
    "DEVICE = torch.device(\"cuda\") if torch.cuda.is_available() else torch.device(\"cpu\")\n"
   ]
  },
  {
   "cell_type": "markdown",
   "id": "16e9cb58",
   "metadata": {},
   "source": [
    "### Data Transformation\n",
    "\n",
    "The T5 model does not work with raw text. Instead, it requires the text to be transformed into numerical form in order to perform training and inference. The following transformations are required for the T5 model:\n",
    "\n",
    "1. Tokenize text\n",
    "2. Convert tokens into (integer) IDs\n",
    "3. Truncate the sequences to a specified maximum length\n",
    "4. Add end-of-sequence (EOS) and padding token IDs\n",
    "\n",
    "T5 uses a sentencepiece model for text tokenization. Below, we use a pre-trained sentencepiece model to build the text pre-processing pipeline using torchtext's `T5Transform`. Note that the transform supports both batched and non-batched text input (i.e. one can either pass a single sentence or a list of sentences), however the T5 model expects the input to be batched."
   ]
  },
  {
   "cell_type": "code",
   "execution_count": 2,
   "id": "3191de8a",
   "metadata": {},
   "outputs": [],
   "source": [
    "from torchtext.prototype.models import T5Transform\n",
    "\n",
    "padding_idx = 0\n",
    "eos_idx = 1\n",
    "max_seq_len = 512\n",
    "t5_sp_model_path = r\"https://download.pytorch.org/models/text/t5_tokenizer_base.model\"\n",
    "\n",
    "\n",
    "transform = T5Transform(\n",
    "        sp_model_path=t5_sp_model_path,\n",
    "        max_seq_len=max_seq_len,\n",
    "        eos_idx=eos_idx,\n",
    "        padding_idx=padding_idx,\n",
    ")\n"
   ]
  },
  {
   "cell_type": "markdown",
   "id": "35d3f4dd",
   "metadata": {},
   "source": [
    "Alternatively, we can also use the transform shipped with the pre-trained models that does all of the above out-of-the-box"
   ]
  },
  {
   "cell_type": "code",
   "execution_count": 3,
   "id": "095f4549",
   "metadata": {},
   "outputs": [],
   "source": [
    "from torchtext.prototype.models import T5_BASE_GENERATION\n",
    "\n",
    "transform = T5_BASE_GENERATION.transform()\n"
   ]
  },
  {
   "cell_type": "markdown",
   "id": "6d8f9438",
   "metadata": {},
   "source": [
    "### Dataset\n",
    "\n",
    "torchtext provides several standard NLP datasets. For a complete list, refer to the documentation at https://pytorch.org/text/stable/datasets.html. These datasets are built using composable torchdata datapipes and hence support standard flow-control and mapping/transformation using user defined functions and transforms. Below, we demonstrate how to pre-process the CNNDM dataset to include the prefix necessary for the model to indentify the task it is performing.\n",
    "\n",
    "The CNNDM dataset has a train, validation, and test split. Below we demo on the test split."
   ]
  },
  {
   "cell_type": "code",
   "execution_count": 4,
   "id": "b000eb71",
   "metadata": {},
   "outputs": [],
   "source": [
    "from functools import partial\n",
    "from torch.utils.data import DataLoader\n",
    "from torchtext.datasets.cnndm import CNNDM\n",
    "\n",
    "batch_size = 5\n",
    "test_datapipe = CNNDM(split=\"test\")\n",
    "task = 'summarize'\n",
    "\n",
    "def apply_prefix(task, x):\n",
    "    return f'{task}: ' + x[0], x[1]\n",
    "\n",
    "test_datapipe = test_datapipe.map(partial(apply_prefix, task))\n",
    "test_datapipe = test_datapipe.batch(batch_size)\n",
    "test_datapipe = test_datapipe.rows2columnar([\"article\", \"abstract\"])\n",
    "test_dataloader = DataLoader(test_datapipe, batch_size=None)\n"
   ]
  },
  {
   "cell_type": "markdown",
   "id": "67792cae",
   "metadata": {},
   "source": [
    "Alternately we can also use batched API (i.e apply the prefix on the whole batch)"
   ]
  },
  {
   "cell_type": "code",
   "execution_count": 5,
   "id": "738d3a51",
   "metadata": {},
   "outputs": [],
   "source": [
    "def batch_prefix(task, x):\n",
    "    return {\n",
    "        \"article\": [f'{task}: ' + y for y in x[\"article\"]],\n",
    "        \"abstract\": x[\"abstract\"]\n",
    "    }\n",
    "\n",
    "batch_size = 5\n",
    "test_datapipe = CNNDM(split=\"test\")\n",
    "task = 'summarize'\n",
    "\n",
    "test_datapipe = test_datapipe.batch(batch_size).rows2columnar([\"article\", \"abstract\"])\n",
    "test_datapipe = test_datapipe.map(partial(batch_prefix, task))\n",
    "test_dataloader = DataLoader(test_datapipe, batch_size=None)\n"
   ]
  },
  {
   "cell_type": "markdown",
   "id": "a8771e00",
   "metadata": {},
   "source": [
    "### Model Preparation\n",
    "\n",
    "torchtext provides SOTA pre-trained models that can be used directly for NLP tasks or fine-tuned on downstream tasks. Below we use the pre-trained T5 model with standard base architecture to perform text summarization. For additional details on available pre-trained models, please refer to documentation at https://pytorch.org/text/main/models.html"
   ]
  },
  {
   "cell_type": "code",
   "execution_count": null,
   "id": "54b6446a",
   "metadata": {},
   "outputs": [],
   "source": [
    "t5_base = T5_BASE_GENERATION\n",
    "transform = t5_base.transform()\n",
    "model = t5_base.get_model()\n",
    "model.to(DEVICE)\n"
   ]
  },
  {
   "cell_type": "markdown",
   "id": "568b54bd",
   "metadata": {},
   "source": [
    "### Sequence Generator\n",
    "\n",
    "We can define a sequence generator to produce an output sequence based on the input sequence provided. This calls on the model's encoder and decoder, and iteratively expands the decoded sequences until the end-of-sequence token is generated for all sequences in the batch. The `generate` method shown below uses a greedy search (i.e. expands the sequence based on the most probable next word)."
   ]
  },
  {
   "cell_type": "code",
   "execution_count": 7,
   "id": "1153c985",
   "metadata": {},
   "outputs": [],
   "source": [
    "from torch import Tensor\n",
    "from torchtext.prototype.models import T5Model\n",
    "\n",
    "def generate(\n",
    "        encoder_tokens: Tensor,\n",
    "        eos_idx: int,\n",
    "        model: T5Model,\n",
    "    ) -> Tensor:\n",
    "        \n",
    "        # pass tokens through encoder\n",
    "        encoder_padding_mask = encoder_tokens.eq(model.padding_idx)\n",
    "        encoder_embeddings = model.dropout1(model.token_embeddings(encoder_tokens))\n",
    "        encoder_output = model.encoder(encoder_embeddings, tgt_key_padding_mask=encoder_padding_mask)[0]\n",
    "\n",
    "        encoder_output = model.norm1(encoder_output)\n",
    "        encoder_output = model.dropout2(encoder_output)\n",
    "        \n",
    "        # initialize decoder input sequence; T5 uses padding index as starter index to decoder sequence\n",
    "        decoder_tokens = torch.ones((encoder_tokens.size(0), 1), dtype=torch.long) * model.padding_idx\n",
    "        \n",
    "        # mask to keep track of sequences for which the decoder has not produced an end-of-sequence token yet\n",
    "        incomplete_sentences = torch.ones((encoder_tokens.size(0), 1), dtype=torch.long)\n",
    "\n",
    "        # iteratively generate output sequence until all sequences in the batch have generated the end-of-sequence token\n",
    "        for step in range(model.config.max_seq_len):\n",
    "            \n",
    "            # causal mask and padding mask for decoder sequence\n",
    "            tgt_len = decoder_tokens.shape[1]\n",
    "            decoder_mask = torch.triu(torch.ones((tgt_len, tgt_len), dtype=torch.float64), diagonal=1).bool()\n",
    "            decoder_padding_mask = decoder_tokens.eq(model.padding_idx)\n",
    "            \n",
    "            # T5 implemention uses padding idx to start sequence. Want to ignore this when masking\n",
    "            decoder_padding_mask[:, 0] = False\n",
    "            \n",
    "            # pass decoder sequence through decoder\n",
    "            decoder_embeddings = model.dropout3(model.token_embeddings(decoder_tokens))\n",
    "            decoder_output = model.decoder(\n",
    "                decoder_embeddings,\n",
    "                memory=encoder_output,\n",
    "                tgt_mask=decoder_mask,\n",
    "                tgt_key_padding_mask=decoder_padding_mask,\n",
    "                memory_key_padding_mask=encoder_padding_mask,\n",
    "            )[0]\n",
    "\n",
    "            decoder_output = model.norm2(decoder_output)\n",
    "            decoder_output = model.dropout4(decoder_output)\n",
    "            decoder_output = decoder_output * (model.config.embedding_dim ** -0.5)\n",
    "            decoder_output = model.lm_head(decoder_output)\n",
    "            \n",
    "            # greedy search for next token to add to sequence\n",
    "            probs = F.log_softmax(decoder_output[:,-1], dim=-1)\n",
    "            _, next_token = torch.topk(decoder_output[:,-1], 1)\n",
    "            \n",
    "            # ignore next tokens for sentences that are already complete\n",
    "            next_token *= incomplete_sentences\n",
    "            \n",
    "            # update incomplete_sentences to remove those that were just ended\n",
    "            incomplete_sentences = incomplete_sentences - (next_token == eos_idx).long()\n",
    "            \n",
    "            # update decoder sequences to include new tokens\n",
    "            decoder_tokens = torch.cat((decoder_tokens, next_token), 1)\n",
    "            \n",
    "            # early stop if all sentences have been ended\n",
    "            if (incomplete_sentences == 0).all():\n",
    "                break\n",
    "\n",
    "        return decoder_tokens\n"
   ]
  },
  {
   "cell_type": "markdown",
   "id": "9c28b6da",
   "metadata": {},
   "source": [
    "### Generate Summaries\n",
    "\n",
    "Finally we put all of the components together the generate summaries on the first batch of articles in the CNNDM test set."
   ]
  },
  {
   "cell_type": "code",
   "execution_count": 8,
   "id": "e243aae2",
   "metadata": {},
   "outputs": [],
   "source": [
    "batch = next(iter(test_dataloader))\n",
    "input_text = batch[\"article\"]\n",
    "model_input = transform(input_text)\n",
    "model_output = generate(\n",
    "    model=model,\n",
    "    encoder_tokens=model_input,\n",
    "    eos_idx=eos_idx\n",
    ")\n",
    "output_text = transform.decode(model_output.tolist())\n",
    "target = batch[\"abstract\"]\n"
   ]
  },
  {
   "cell_type": "code",
   "execution_count": 9,
   "id": "499ae599",
   "metadata": {},
   "outputs": [
    {
     "name": "stdout",
     "output_type": "stream",
     "text": [
      "Example 1:\n",
      "\n",
      "prediction: the Palestinians officially become the 123rd member of the international criminal court . the move gives the court jurisdiction over alleged crimes committed in the occupied Palestinian territory . the ICC opened a preliminary examination into the situation in the occupied territories .\n",
      "\n",
      "target: Membership gives the ICC jurisdiction over alleged crimes committed in Palestinian territories since last June . Israel and the United States opposed the move, which could open the door to war crimes investigations against Israelis .\n",
      "\n",
      "\n",
      "Example 2:\n",
      "\n",
      "prediction: a stray pooch in Washington state has used up at least three of her own after being hit by a car . the dog staggers to a nearby farm, dirt-covered and emaciated, where she is found . she suffered a dislocated jaw, leg injuries and a caved-in sinus cavity .\n",
      "\n",
      "target: Theia, a bully breed mix, was apparently hit by a car, whacked with a hammer and buried in a field . \"She's a true miracle dog and she deserves a good life,\" says Sara Mellado, who is looking for a home for Theia .\n",
      "\n",
      "\n",
      "Example 3:\n",
      "\n",
      "prediction: mohammad Javad Zarif is the foreign minister of the country . he has been a key figure in securing a breakthrough in nuclear talks . he has been a hero in the international community .\n",
      "\n",
      "target: Mohammad Javad Zarif has spent more time with John Kerry than any other foreign minister . He once participated in a takeover of the Iranian Consulate in San Francisco . The Iranian foreign minister tweets in English .\n",
      "\n",
      "\n",
      "Example 4:\n",
      "\n",
      "prediction: five americans were monitored for three weeks after being exposed to Ebola . one of the five had a heart-related issue on Saturday and has been discharged . none of the patients developed the deadly virus .\n",
      "\n",
      "target: 17 Americans were exposed to the Ebola virus while in Sierra Leone in March . Another person was diagnosed with the disease and taken to hospital in Maryland . National Institutes of Health says the patient is in fair condition after weeks of treatment .\n",
      "\n",
      "\n",
      "Example 5:\n",
      "\n",
      "prediction: the student was identified during an investigation by campus police and the office of student affairs . he admitted to placing the noose on the tree early Wednesday morning .\n",
      "\n",
      "target: Student is no longer on Duke University campus and will face disciplinary review . School officials identified student during investigation and the person admitted to hanging the noose, Duke says . The noose, made of rope, was discovered on campus about 2 a.m.\n",
      "\n",
      "\n"
     ]
    }
   ],
   "source": [
    "for i in range(batch_size):\n",
    "    \n",
    "    print(f\"Example {i+1}:\\n\")\n",
    "    print(f\"prediction: {output_text[i]}\\n\")\n",
    "    print(f\"target: {target[i]}\\n\\n\")\n"
   ]
  }
 ],
 "metadata": {
  "kernelspec": {
   "display_name": "Python 3 (ipykernel)",
   "language": "python",
   "name": "python3"
  },
  "language_info": {
   "codemirror_mode": {
    "name": "ipython",
    "version": 3
   },
   "file_extension": ".py",
   "mimetype": "text/x-python",
   "name": "python",
   "nbconvert_exporter": "python",
   "pygments_lexer": "ipython3",
   "version": "3.9.12"
  }
 },
 "nbformat": 4,
 "nbformat_minor": 5
}
