{
 "cells": [
  {
   "cell_type": "markdown",
   "metadata": {},
   "source": [
    "# Text Classification Example:\n",
    "\n",
    "This example reproduces the sentiment analysis with the fast text classifier described in [Bag of Tricks for Efficient Text Classification](https://arxiv.org/abs/1607.01759). In the papaer, the sentences are represent as bag of words (BoW) and train a linear classifier. Recently, a few text classification datasets, including \n",
    "    - AG_NEWS,\n",
    "    - SogouNews, \n",
    "    - DBpedia, \n",
    "    - YelpReviewPolarity,\n",
    "    - YelpReviewFull, \n",
    "    - YahooAnswers, \n",
    "    - AmazonReviewPolarity,\n",
    "    - AmazonReviewFull\n",
    "are added to PyTorch/torchtext and can be loaded with a single command. This example shows the applciation of TextClassificationDataset and reproduce the results of the paper.\n",
    "\n",
    "## Load data with ngrams\n",
    "A bag of ngrams features is used in the paper to capture some partial information about the local word order. In practice, bi-gram or tri-gram are applied to provide more benefits as word groups than only one word. An example:\n",
    "\n",
    "    \"load data with ngrams\"\n",
    "    Bi-grams results: \"load data\", \"data with\", \"with ngrams\"\n",
    "    Tri-grams results: \"load data with\", \"data with ngrams\"\n",
    "\n",
    "TextClassificationDataset supports the ngrams method. By setting ngrams to 2, the example text in the dataset will be a list of single words plus bi-grams string.\n",
    "\n",
    "Data iterators are loaded via the iters() function in the instance with a batch size of 128 and computation device. At the same time, the word strings are numericalized (i.e. converted from a list of tokens to a list of indexs)."
   ]
  },
  {
   "cell_type": "code",
   "execution_count": null,
   "metadata": {},
   "outputs": [],
   "source": [
    "import torch\n",
    "import torchtext\n",
    "from torchtext.datasets import AG_NEWS\n",
    "NGRAMS = 2\n",
    "txt_cls = AG_NEWS(ngrams=NGRAMS)\n",
    "BATCH_SIZE = 512\n",
    "device = torch.device(\"cuda\" if torch.cuda.is_available() else \"cpu\")"
   ]
  },
  {
   "cell_type": "markdown",
   "metadata": {},
   "source": [
    "## Define the model\n",
    "\n",
    "The model is composed of the embedding layer and the linear layer. Between the two layers, we apply a 2D average pooling function over the input signal (see [avg_pool2d](https://pytorch.org/docs/stable/nn.html?highlight=avg_pool2d#torch.nn.AvgPool2d)). Then, we use the log-softmax function to compute the probability distribution over the classes.\n",
    "<img src=\"./pictures/text_sentiment_ngrams_model.png\" width=\"600\" height=\"360\">"
   ]
  },
  {
   "cell_type": "code",
   "execution_count": null,
   "metadata": {
    "lines_to_next_cell": 1
   },
   "outputs": [],
   "source": [
    "import torch.nn as nn\n",
    "import torch.nn.functional as F\n",
    "class TextSentiment(nn.Module):\n",
    "    def __init__(self, vocab_size, embed_dim, num_class, pad_idx):\n",
    "        super().__init__()\n",
    "        self.embedding = nn.Embedding(vocab_size, embed_dim, padding_idx=pad_idx)\n",
    "        self.fc = nn.Linear(embed_dim, num_class)\n",
    "        self.init_weights()\n",
    "\n",
    "    def init_weights(self):\n",
    "        initrange = 0.5\n",
    "        self.embedding.weight.data.uniform_(-initrange, initrange)\n",
    "        self.fc.weight.data.uniform_(-initrange, initrange)\n",
    "        self.fc.bias.data.zero_()\n",
    "        \n",
    "    def forward(self, text):\n",
    "        embedded = self.embedding(text) # Sent_Len * Batch_Size * Embed_Dim\n",
    "        embedded = embedded.transpose(0, 1) # Batch_Size * Sent_Len * Embed_Dim\n",
    "        pooled = F.avg_pool2d(embedded, (embedded.shape[1], 1)).squeeze(1) # Batch_Size * Embed_Dim\n",
    "        out = self.fc(pooled) # Batch_Size * Num_Class\n",
    "        return F.log_softmax(out, dim=1)"
   ]
  },
  {
   "cell_type": "markdown",
   "metadata": {},
   "source": [
    "## Initiate an instance\n",
    "\n",
    "The AG_NEWS dataset has four labels and therefore the number of classes is four.\n",
    "\n",
    "    1 : World\n",
    "    2 : Sports\n",
    "    3 : Business\n",
    "    4 : Sci/Tec\n",
    "\n",
    "The vocab size is equal to the length of vocab (including single word and ngrams)."
   ]
  },
  {
   "cell_type": "code",
   "execution_count": null,
   "metadata": {},
   "outputs": [],
   "source": [
    "VOCAB_SIZE = len(txt_cls.fields['text'].vocab)\n",
    "EMBED_DIM = 128\n",
    "NUN_CLASS = 4\n",
    "PAD_IDX = txt_cls.fields['text'].vocab.stoi[txt_cls.fields['text'].pad_token]\n",
    "UNK_IDX = txt_cls.fields['text'].vocab.stoi[txt_cls.fields['text'].unk_token]\n",
    "model = TextSentiment(VOCAB_SIZE, EMBED_DIM, NUN_CLASS, PAD_IDX).to(device)\n",
    "model.embedding.weight.data[UNK_IDX] = torch.zeros(EMBED_DIM)\n",
    "model.embedding.weight.data[PAD_IDX] = torch.zeros(EMBED_DIM)"
   ]
  },
  {
   "cell_type": "markdown",
   "metadata": {
    "lines_to_next_cell": 2
   },
   "source": [
    "## Add optimizer and loss function\n",
    "\n",
    "[Adam](https://pytorch.org/docs/stable/optim.html?highlight=adam#torch.optim.Adam) algorithm is used to optimize the model. \n",
    "[NLLLoss](https://pytorch.org/docs/stable/nn.html?highlight=nll_loss#torch.nn.NLLLoss) function calculates the negative log likelihood loss, which is used to train a classification problem with C classes."
   ]
  },
  {
   "cell_type": "code",
   "execution_count": null,
   "metadata": {},
   "outputs": [],
   "source": [
    "import torch.optim as optim\n",
    "optimizer = optim.Adam(model.parameters())\n",
    "loss_func = F.nll_loss"
   ]
  },
  {
   "cell_type": "markdown",
   "metadata": {
    "lines_to_next_cell": 1
   },
   "source": [
    "## Define a function to train the model and evaluate results."
   ]
  },
  {
   "cell_type": "code",
   "execution_count": null,
   "metadata": {
    "lines_to_next_cell": 1
   },
   "outputs": [],
   "source": [
    "def train_evaluate_func(model, examples, fields, loss_func, device, batch_size=64, status='train', optimizer=None):\n",
    "    \n",
    "    _loss = 0\n",
    "    _acc = 0\n",
    "    \n",
    "    if status == 'train':\n",
    "        model.train()\n",
    "    else:\n",
    "        model.eval()\n",
    "\n",
    "    import random\n",
    "    random.shuffle(examples)\n",
    "    loss = torch.Tensor([0.0]).to(device) \n",
    "    for ex_idx, ex in enumerate(examples):\n",
    "        if status == 'train':\n",
    "            optimizer.zero_grad()\n",
    "\n",
    "        text_input = fields['text'].numericalize(fields['text'].pad([ex.text])).to(device)\n",
    "        target = torch.Tensor([ex.label - 1]).long().to(device)\n",
    "        output = model(text_input)\n",
    "        loss += loss_func(output, target)\n",
    "\n",
    "        if output.max(1)[1].item() == target.item():\n",
    "            _acc += 1\n",
    "                \n",
    "        if (1 + ex_idx) % batch_size == 0 or ex_idx == len(examples) - 1:\n",
    "            if status == 'train':\n",
    "                loss.backward()\n",
    "                optimizer.step()\n",
    "        \n",
    "            _loss += loss.item()\n",
    "            loss = torch.Tensor([0.0]).to(device)\n",
    "\n",
    "    return _loss / len(examples), _acc / len(examples)"
   ]
  },
  {
   "cell_type": "markdown",
   "metadata": {},
   "source": [
    "## Run the model"
   ]
  },
  {
   "cell_type": "code",
   "execution_count": null,
   "metadata": {},
   "outputs": [],
   "source": [
    "import time\n",
    "N_EPOCHS = 6\n",
    "min_valid_loss = float('inf')\n",
    "for epoch in range(N_EPOCHS):\n",
    "\n",
    "    start_time = time.time()\n",
    "\n",
    "    rnd = torchtext.data.dataset.RandomShuffler(None)\n",
    "    train_examples, _test_examples, valid_examples = \\\n",
    "        torchtext.data.dataset.rationed_split(txt_cls.train_examples, 0.7, 0.0, 0.3, rnd)\n",
    "    \n",
    "    train_loss, train_acc = train_evaluate_func(model, train_examples, txt_cls.fields, loss_func, device=device, status='train', optimizer=optimizer)\n",
    "    with torch.no_grad():\n",
    "        valid_loss, valid_acc = train_evaluate_func(model, valid_examples, txt_cls.fields, loss_func, device=device, status='valid')\n",
    "    \n",
    "    end_time = time.time()\n",
    "    _mins = int((end_time - start_time) / 60)\n",
    "    _secs = int(end_time - start_time - _mins * 60)\n",
    "\n",
    "    if valid_loss < min_valid_loss:\n",
    "        min_valid_loss = valid_loss\n",
    "        torch.save(model, 'text_classification.pt')\n",
    "    \n",
    "    print('Epoch: %d' %(epoch + 1), \" | time in %d minutes, %d seconds\" %(_mins, _secs))\n",
    "    print(f'\\tLoss: {train_loss:.3f}(train)\\t|\\t{valid_loss:.3f}(valid)')\n",
    "    print(f'\\tAcc: {train_acc * 100:.1f}%(train)\\t|\\t{valid_acc * 100:.1f}%(valid)')"
   ]
  },
  {
   "cell_type": "markdown",
   "metadata": {},
   "source": [
    "Running the model on GPU with the following information:\n",
    "\n",
    "Epoch: 1  | time in 12 minutes, 33 seconds\n",
    "\n",
    "        Loss: 0.529(train)      |       0.283(valid)\n",
    "        Acc: 85.9%(train)       |       91.2%(valid)\n",
    "        \n",
    "Epoch: 2  | time in 18 minutes, 31 seconds\n",
    "\n",
    "        Loss: 0.178(train)      |       0.164(valid)\n",
    "        Acc: 94.6%(train)       |       94.8%(valid)\n",
    "        \n",
    "Epoch: 3  | time in 10 minutes, 11 seconds\n",
    "\n",
    "        Loss: 0.094(train)      |       0.088(valid)\n",
    "        Acc: 97.2%(train)       |       97.3%(valid)\n",
    "        \n",
    "Epoch: 4  | time in 10 minutes, 55 seconds          \n",
    "\n",
    "        Loss: 0.049(train)      |       0.051(valid)\n",
    "        Acc: 98.5%(train)       |       98.4%(valid)\n",
    "        \n",
    "Epoch: 5  | time in 10 minutes, 57 seconds         \n",
    "\n",
    "        Loss: 0.028(train)      |       0.030(valid)\n",
    "        Acc: 99.1%(train)       |       99.1%(valid)\n",
    "        \n",
    "Epoch: 6  | time in 18 minutes, 19 seconds          \n",
    "\n",
    "        Loss: 0.018(train)      |       0.020(valid)\n",
    "        Acc: 99.4%(train)       |       99.2%(valid)"
   ]
  },
  {
   "cell_type": "markdown",
   "metadata": {},
   "source": [
    "## Evaluate the model with test dataset"
   ]
  },
  {
   "cell_type": "code",
   "execution_count": null,
   "metadata": {},
   "outputs": [],
   "source": [
    "print('Checking the results of test dataset...')\n",
    "with torch.no_grad():\n",
    "    test_loss, test_acc = train_evaluate_func(model, txt_cls.test_examples, txt_cls.fields, loss_func, device=device, status='test')\n",
    "print(f'\\tLoss: {test_loss:.3f}(test)\\t|\\tAcc: {test_acc * 100:.1f}%(test)')"
   ]
  },
  {
   "cell_type": "markdown",
   "metadata": {},
   "source": [
    "Checking the results of test dataset...\n",
    "\n",
    "        Loss: 0.274(test)       |       Acc: 92.4%(test)\n",
    "        \n",
    "The results are consistent with the reference paper [Bag of Tricks for Efficient Text Classification](https://arxiv.org/abs/1607.01759)."
   ]
  },
  {
   "cell_type": "markdown",
   "metadata": {},
   "source": [
    "## Test on a random news\n",
    "\n",
    "Use the best model so far and test a golf news."
   ]
  },
  {
   "cell_type": "code",
   "execution_count": null,
   "metadata": {},
   "outputs": [],
   "source": [
    "import re\n",
    "from torchtext.data.utils import generate_ngrams\n",
    "\n",
    "ag_news_label = {1 : \"World\",\n",
    "                 2 : \"Sports\",\n",
    "                 3 : \"Business\",\n",
    "                 4 : \"Sci/Tec\"}\n",
    "\n",
    "def predict_label(text_string, ngrams):\n",
    "    model.eval()\n",
    "    text_string = re.sub(r'[^a-zA-Z0-9\\s]', ' ', text_string)\n",
    "    tokens = text_string.split(\" \")\n",
    "    ngrams_tokens = generate_ngrams(tokens, ngrams)\n",
    "    indexed = [txt_cls.fields['text'].vocab.stoi[item] for item in ngrams_tokens]\n",
    "    indexed_tensor = torch.LongTensor(indexed).to(device).unsqueeze(1)\n",
    "    result = model(indexed_tensor)\n",
    "    label_index = result.max(1, keepdim=True)[1].item() + 1 # label starts from 1\n",
    "    return ag_news_label[label_index]\n",
    "\n",
    "example_text_string = \"Defending champion Bryson DeChambeau and 2017 \\\n",
    "                       champion Dustin Johnson have committed to play \\\n",
    "                       in THE NORTHERN TRUST this August for the first \\\n",
    "                       event of the FedExCup Playoffs.\"\n",
    "\n",
    "new_label = \"\"\n",
    "with  open(\"text_classification.pt\", 'rb') as f:\n",
    "    model = torch.load(f)\n",
    "    news_label = predict_label(example_text_string, 2)\n",
    "\n",
    "print(\"This is a %s news\" %news_label)"
   ]
  },
  {
   "cell_type": "markdown",
   "metadata": {},
   "source": [
    "This is a Sports news"
   ]
  },
  {
   "cell_type": "markdown",
   "metadata": {},
   "source": [
    "## Run the model with TorchText Iterator/Batch (optional)"
   ]
  },
  {
   "cell_type": "markdown",
   "metadata": {},
   "source": [
    "There is an option to use TorchText Iterator/Batch. Train the model with batch will significantly reduce the computation time under GPU."
   ]
  },
  {
   "cell_type": "markdown",
   "metadata": {},
   "source": [
    "### Define a simple dataset for data examples"
   ]
  },
  {
   "cell_type": "code",
   "execution_count": null,
   "metadata": {},
   "outputs": [],
   "source": [
    "class TextDataset(torch.utils.data.Dataset):\n",
    "    def __init__(self, examples, fields):\n",
    "        self.examples = examples\n",
    "        self.fields = fields\n",
    "\n",
    "    def __getitem__(self, i):\n",
    "        return self.examples[i]\n",
    "\n",
    "    def __len__(self):\n",
    "        try:\n",
    "            return len(self.examples)\n",
    "        except TypeError:\n",
    "            return 2**32\n",
    "\n",
    "    def __iter__(self):\n",
    "        for x in self.examples:\n",
    "            yield x"
   ]
  },
  {
   "cell_type": "markdown",
   "metadata": {},
   "source": [
    "### Generate train/test/valid iterators"
   ]
  },
  {
   "cell_type": "code",
   "execution_count": null,
   "metadata": {},
   "outputs": [],
   "source": [
    "from torchtext.data import dataset\n",
    "from torchtext.data.iterator import Iterator\n",
    "\n",
    "split_ratio = 0.7\n",
    "rnd = dataset.RandomShuffler(None)\n",
    "train_ratio, valid_ratio = split_ratio, 1 - split_ratio\n",
    "train_examples, _test_examples, valid_examples = \\\n",
    "    dataset.rationed_split(txt_cls.train_examples,\n",
    "                           train_ratio, 0.0,\n",
    "                           valid_ratio, rnd)\n",
    "\n",
    "train = TextDataset(train_examples, txt_cls.fields)\n",
    "train.sort_key = txt_cls.sort_key\n",
    "train_iterator = Iterator(train, batch_size=BATCH_SIZE, train=True, device=device)\n",
    "\n",
    "test = TextDataset(txt_cls.test_examples, txt_cls.fields)\n",
    "test.sort_key = txt_cls.sort_key\n",
    "test_iterator = Iterator(test, batch_size=BATCH_SIZE, train=False, device=device)\n",
    "\n",
    "valid = TextDataset(valid_examples, txt_cls.fields)\n",
    "valid.sort_key = txt_cls.sort_key\n",
    "valid_iterator = Iterator(valid, batch_size=BATCH_SIZE, train=False, device=device)\n"
   ]
  },
  {
   "cell_type": "markdown",
   "metadata": {},
   "source": [
    "### Reset the model"
   ]
  },
  {
   "cell_type": "code",
   "execution_count": null,
   "metadata": {},
   "outputs": [],
   "source": [
    "model = TextSentiment(VOCAB_SIZE, EMBED_DIM, NUN_CLASS, PAD_IDX).to(device)\n",
    "model.embedding.weight.data[UNK_IDX] = torch.zeros(EMBED_DIM)\n",
    "model.embedding.weight.data[PAD_IDX] = torch.zeros(EMBED_DIM)\n",
    "optimizer = optim.Adam(model.parameters())"
   ]
  },
  {
   "cell_type": "markdown",
   "metadata": {},
   "source": [
    "### Train the model with batch/iterators"
   ]
  },
  {
   "cell_type": "code",
   "execution_count": null,
   "metadata": {},
   "outputs": [],
   "source": [
    "def train_evaluate_func(model, iterator, loss_func, status='train', optimizer=None):\n",
    "    \n",
    "    _loss = 0\n",
    "    _acc = 0\n",
    "    \n",
    "    if status == 'train':\n",
    "        model.train()\n",
    "    else:\n",
    "        model.eval()\n",
    "\n",
    "    for batch in iterator:\n",
    "        if status == 'train':\n",
    "            optimizer.zero_grad()\n",
    "        \n",
    "        output = model(batch.text)\n",
    "        target = batch.label.long()\n",
    "        \n",
    "        loss = loss_func(output, target)\n",
    "                \n",
    "        if status == 'train':\n",
    "            loss.backward()\n",
    "            optimizer.step()\n",
    "        \n",
    "        _loss += loss.item()\n",
    "            \n",
    "        pred = output.max(1, keepdim=True)[1]\n",
    "        acc = pred.eq(target.view_as(pred)).sum().item() / len(target)\n",
    "        _acc += acc \n",
    "    return _loss / len(iterator), _acc / len(iterator)"
   ]
  },
  {
   "cell_type": "markdown",
   "metadata": {},
   "source": [
    "### Run the model"
   ]
  },
  {
   "cell_type": "code",
   "execution_count": null,
   "metadata": {},
   "outputs": [],
   "source": [
    "import time\n",
    "N_EPOCHS = 6\n",
    "min_valid_loss = float('inf')\n",
    "for epoch in range(N_EPOCHS):\n",
    "\n",
    "    start_time = time.time()\n",
    "    \n",
    "    train_loss, train_acc = train_evaluate_func(model, train_iterator, loss_func, status='train', optimizer=optimizer)\n",
    "    with torch.no_grad():\n",
    "        valid_loss, valid_acc = train_evaluate_func(model, valid_iterator, loss_func, status='valid')\n",
    "    \n",
    "    end_time = time.time()\n",
    "    _mins = int((end_time - start_time) / 60)\n",
    "    _secs = int(end_time - start_time - _mins * 60)\n",
    "\n",
    "    if valid_loss < min_valid_loss:\n",
    "        min_valid_loss = valid_loss\n",
    "        torch.save(model, 'text_classification.pt')\n",
    "    \n",
    "    print('Epoch: %d' %(epoch + 1), \" | time in %d minutes, %d seconds\" %(_mins, _secs))\n",
    "    print(f'\\tLoss: {train_loss:.3f}(train)\\t|\\t{valid_loss:.3f}(valid)')\n",
    "    print(f'\\tAcc: {train_acc * 100:.1f}%(train)\\t|\\t{valid_acc * 100:.1f}%(valid)')"
   ]
  },
  {
   "cell_type": "markdown",
   "metadata": {},
   "source": [
    "Running the model on GPU with the following information:\n",
    "\n",
    "Epoch: 1  | time in 0 minutes, 16 seconds\n",
    "\n",
    "        Loss: 0.963(train)      |       0.362(valid)\n",
    "        Acc: 80.5%(train)       |       88.5%(valid)\n",
    "        \n",
    "Epoch: 2  | time in 0 minutes, 16 seconds\n",
    "\n",
    "        Loss: 0.375(train)      |       0.349(valid)\n",
    "        Acc: 91.7%(train)       |       90.6%(valid)\n",
    "        \n",
    "Epoch: 3  | time in 0 minutes, 16 seconds\n",
    "\n",
    "        Loss: 0.228(train)      |       0.353(valid)\n",
    "        Acc: 94.5%(train)       |       91.4%(valid)\n",
    "        \n",
    "Epoch: 4  | time in 0 minutes, 16 seconds\n",
    "\n",
    "        Loss: 0.151(train)      |       0.359(valid)\n",
    "        Acc: 96.4%(train)       |       91.8%(valid)\n",
    "        \n",
    "Epoch: 5  | time in 0 minutes, 16 seconds\n",
    "\n",
    "        Loss: 0.102(train)      |       0.373(valid)\n",
    "        Acc: 97.6%(train)       |       91.9%(valid)\n",
    "        \n",
    "Epoch: 6  | time in 0 minutes, 16 seconds\n",
    "\n",
    "        Loss: 0.069(train)      |       0.394(valid)\n",
    "        Acc: 98.5%(train)       |       91.9%(valid)"
   ]
  }
 ],
 "metadata": {
  "jupytext": {
   "cell_metadata_filter": "-all",
   "main_language": "python",
   "notebook_metadata_filter": "-all"
  },
  "kernelspec": {
   "display_name": "Python 3",
   "language": "python",
   "name": "python3"
  },
  "language_info": {
   "codemirror_mode": {
    "name": "ipython",
    "version": 3
   },
   "file_extension": ".py",
   "mimetype": "text/x-python",
   "name": "python",
   "nbconvert_exporter": "python",
   "pygments_lexer": "ipython3",
   "version": "3.7.3"
  }
 },
 "nbformat": 4,
 "nbformat_minor": 2
}
